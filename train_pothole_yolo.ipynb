{
 "cells": [
  {
   "cell_type": "markdown",
   "id": "1bf28736",
   "metadata": {},
   "source": [
    "# 🚧 Entrenamiento YOLOv8 - Detección de Baches\n",
    "\n",
    "Este notebook entrena un modelo YOLOv8 para detectar baches en la calle y lo optimiza para deployment en Android.\n",
    "\n",
    "## 📋 Pasos:\n",
    "1. Instalar dependencias\n",
    "2. Descargar dataset de Roboflow\n",
    "3. Entrenar modelo YOLOv8\n",
    "4. Optimizar para móvil (FP16 y INT8)\n",
    "5. Exportar a TFLite"
   ]
  },
  {
   "cell_type": "markdown",
   "id": "bd21d7b0",
   "metadata": {},
   "source": [
    "## 1️⃣ Instalar Dependencias\n",
    "\n",
    "Instalamos Ultralytics (YOLOv8) y Roboflow para descargar el dataset."
   ]
  },
  {
   "cell_type": "code",
   "execution_count": null,
   "id": "144067f9",
   "metadata": {},
   "outputs": [],
   "source": [
    "!pip install ultralytics roboflow -q\n",
    "print(\"✅ Dependencias instaladas!\")"
   ]
  },
  {
   "cell_type": "markdown",
   "id": "6b46b27a",
   "metadata": {},
   "source": [
    "## 2️⃣ Importar Librerías"
   ]
  },
  {
   "cell_type": "code",
   "execution_count": null,
   "id": "5935de37",
   "metadata": {},
   "outputs": [],
   "source": [
    "import os\n",
    "from ultralytics import YOLO\n",
    "from roboflow import Roboflow\n",
    "import torch\n",
    "\n",
    "print(f\"🔧 PyTorch version: {torch.__version__}\")\n",
    "print(f\"🖥️  CUDA disponible: {torch.cuda.is_available()}\")\n",
    "print(f\"💾 Dispositivo: {'cuda' if torch.cuda.is_available() else 'cpu'}\")"
   ]
  },
  {
   "cell_type": "markdown",
   "id": "b32b041a",
   "metadata": {},
   "source": [
    "## 3️⃣ Descargar Dataset desde Roboflow\n",
    "\n",
    "Descargamos el dataset de baches desde Roboflow (versión 18)."
   ]
  },
  {
   "cell_type": "code",
   "execution_count": null,
   "id": "1b613b03",
   "metadata": {},
   "outputs": [],
   "source": [
    "# Conectar a Roboflow\n",
    "rf = Roboflow(api_key=\"1kyEcz6MV5H8ZK9UIIBP\")\n",
    "project = rf.workspace(\"yeeun-kim-fyvoj\").project(\"pothole-vhmow\")\n",
    "version = project.version(18)\n",
    "\n",
    "# Descargar dataset en formato YOLOv8\n",
    "print(\"📥 Descargando dataset...\")\n",
    "dataset = version.download(\"yolov11\")\n",
    "\n",
    "print(f\"✅ Dataset descargado en: {dataset.location}\")\n",
    "print(f\"📂 Archivo data.yaml: {dataset.location}/data.yaml\")"
   ]
  },
  {
   "cell_type": "markdown",
   "id": "2e50dbe7",
   "metadata": {},
   "source": [
    "## 4️⃣ Cargar Modelo Pre-entrenado\n",
    "\n",
    "Cargamos YOLOv8 Nano (el más ligero) como base."
   ]
  },
  {
   "cell_type": "code",
   "execution_count": null,
   "id": "4802ae41",
   "metadata": {},
   "outputs": [],
   "source": [
    "# Cargar modelo YOLOv8 nano (más rápido para móvil)\n",
    "model = YOLO('yolov8n.pt')\n",
    "print(\"✅ Modelo YOLOv8n cargado\")"
   ]
  },
  {
   "cell_type": "markdown",
   "id": "32eb16a0",
   "metadata": {},
   "source": [
    "## 5️⃣ Entrenar el Modelo\n",
    "\n",
    "Entrenamos con configuraciones optimizadas para detección de baches."
   ]
  },
  {
   "cell_type": "code",
   "execution_count": null,
   "id": "70ebfb92",
   "metadata": {},
   "outputs": [],
   "source": [
    "# Entrenar modelo\n",
    "results = model.train(\n",
    "    data=f'{dataset.location}/data.yaml',\n",
    "    epochs=50,\n",
    "    imgsz=640,\n",
    "    batch=16,\n",
    "    patience=10,              # early stopping\n",
    "    device='cuda' if torch.cuda.is_available() else 'cpu',\n",
    "    workers=8,\n",
    "    project='pothole_detection',\n",
    "    name='yolov8n_v1',\n",
    "    exist_ok=True,\n",
    "    \n",
    "    # Optimizaciones\n",
    "    optimizer='AdamW',        # mejor para datasets pequeños\n",
    "    lr0=0.001,                # learning rate inicial\n",
    "    lrf=0.01,                 # learning rate final\n",
    "    momentum=0.937,\n",
    "    weight_decay=0.0005,\n",
    "    \n",
    "    # Data Augmentation\n",
    "    hsv_h=0.015,              # hue\n",
    "    hsv_s=0.7,                # saturation\n",
    "    hsv_v=0.4,                # value\n",
    "    degrees=10.0,             # rotación\n",
    "    translate=0.1,            # traslación\n",
    "    scale=0.5,                # zoom\n",
    "    flipud=0.0,               # no voltear verticalmente\n",
    "    fliplr=0.5,               # sí voltear horizontalmente\n",
    "    mosaic=1.0,               # mosaic augmentation\n",
    ")\n",
    "\n",
    "print(\"\\n🎉 Entrenamiento completado!\")\n",
    "print(f\"📂 Resultados guardados en: {results.save_dir}\")"
   ]
  },
  {
   "cell_type": "markdown",
   "id": "e4c31183",
   "metadata": {},
   "source": [
    "## 6️⃣ Validar el Modelo\n",
    "\n",
    "Probamos el modelo en el conjunto de validación."
   ]
  },
  {
   "cell_type": "code",
   "execution_count": null,
   "id": "7d3d0620",
   "metadata": {},
   "outputs": [],
   "source": [
    "# Validar modelo\n",
    "metrics = model.val()\n",
    "\n",
    "print(f\"\\n📊 Métricas del modelo:\")\n",
    "print(f\"  mAP50: {metrics.box.map50:.4f}\")\n",
    "print(f\"  mAP50-95: {metrics.box.map:.4f}\")\n",
    "print(f\"  Precisión: {metrics.box.mp:.4f}\")\n",
    "print(f\"  Recall: {metrics.box.mr:.4f}\")"
   ]
  },
  {
   "cell_type": "markdown",
   "id": "1df0f802",
   "metadata": {},
   "source": [
    "## 7️⃣ Exportar a TFLite con FP16 (Optimización Float16)\n",
    "\n",
    "Exportamos el modelo a TensorFlow Lite con precisión FP16 para reducir tamaño."
   ]
  },
  {
   "cell_type": "code",
   "execution_count": null,
   "id": "1cab2e65",
   "metadata": {},
   "outputs": [],
   "source": [
    "# Cargar mejor modelo entrenado\n",
    "best_model = YOLO('pothole_detection/yolov8n_v1/weights/best.pt')\n",
    "\n",
    "# Exportar a TFLite FP16\n",
    "print(\"📱 Exportando a TFLite FP16...\")\n",
    "fp16_path = best_model.export(\n",
    "    format='tflite',\n",
    "    half=True,           # FP16 precision\n",
    "    imgsz=640,\n",
    "    int8=False\n",
    ")\n",
    "\n",
    "print(f\"✅ Modelo FP16 exportado: {fp16_path}\")\n",
    "\n",
    "# Renombrar para identificar fácilmente\n",
    "import shutil\n",
    "shutil.copy(fp16_path, 'models/best_float16.tflite')\n",
    "print(f\"📂 Copiado a: models/best_float16.tflite\")"
   ]
  },
  {
   "cell_type": "markdown",
   "id": "532d1bcf",
   "metadata": {},
   "source": [
    "## 8️⃣ Exportar a TFLite con INT8 (Cuantización Máxima)\n",
    "\n",
    "Exportamos con cuantización INT8 para máxima optimización (más pequeño, más rápido)."
   ]
  },
  {
   "cell_type": "code",
   "execution_count": null,
   "id": "e22c28e9",
   "metadata": {},
   "outputs": [],
   "source": [
    "# Exportar a TFLite INT8\n",
    "print(\"📱 Exportando a TFLite INT8...\")\n",
    "int8_path = best_model.export(\n",
    "    format='tflite',\n",
    "    half=False,\n",
    "    imgsz=640,\n",
    "    int8=True           # INT8 quantization\n",
    ")\n",
    "\n",
    "print(f\"✅ Modelo INT8 exportado: {int8_path}\")\n",
    "\n",
    "# Copiar a carpeta models\n",
    "shutil.copy(int8_path, 'models/best_int8.tflite')\n",
    "print(f\"📂 Copiado a: models/best_int8.tflite\")"
   ]
  },
  {
   "cell_type": "markdown",
   "id": "844e0abe",
   "metadata": {},
   "source": [
    "## 9️⃣ Comparar Tamaños de Modelos\n",
    "\n",
    "Veamos la diferencia de tamaño entre los modelos."
   ]
  },
  {
   "cell_type": "code",
   "execution_count": null,
   "id": "4d9bd952",
   "metadata": {},
   "outputs": [],
   "source": [
    "import os\n",
    "\n",
    "def get_file_size(path):\n",
    "    size_bytes = os.path.getsize(path)\n",
    "    size_mb = size_bytes / (1024 * 1024)\n",
    "    return size_mb\n",
    "\n",
    "print(\"\\n📊 Comparación de tamaños:\")\n",
    "print(f\"  Original PT:  {get_file_size('pothole_detection/yolov8n_v1/weights/best.pt'):.2f} MB\")\n",
    "print(f\"  FP16 TFLite:  {get_file_size('models/best_float16.tflite'):.2f} MB\")\n",
    "print(f\"  INT8 TFLite:  {get_file_size('models/best_int8.tflite'):.2f} MB\")\n",
    "\n",
    "print(\"\\n💡 Recomendación:\")\n",
    "print(\"  - FP16: Mejor balance entre velocidad y precisión\")\n",
    "print(\"  - INT8: Más rápido, ligeramente menos preciso\")"
   ]
  },
  {
   "cell_type": "markdown",
   "id": "f7ef4230",
   "metadata": {},
   "source": [
    "## 🔟 Probar Modelo en Imagen de Prueba\n",
    "\n",
    "Probamos el modelo en una imagen para verificar que funciona."
   ]
  },
  {
   "cell_type": "code",
   "execution_count": null,
   "id": "cd7da422",
   "metadata": {},
   "outputs": [],
   "source": [
    "# Probar detección en imagen de validación\n",
    "results = best_model.predict(\n",
    "    source=f'{dataset.location}/valid/images',\n",
    "    conf=0.5,           # confianza mínima\n",
    "    save=True,          # guardar imágenes con detecciones\n",
    "    project='predictions',\n",
    "    name='test'\n",
    ")\n",
    "\n",
    "print(f\"\\n✅ Predicciones guardadas en: predictions/test\")\n",
    "print(f\"📸 Revisa las imágenes para ver las detecciones\")"
   ]
  },
  {
   "cell_type": "markdown",
   "id": "ae4b795d",
   "metadata": {},
   "source": [
    "## ✅ Resumen Final\n",
    "\n",
    "### 📦 Archivos Generados:\n",
    "\n",
    "1. **Modelo original**: `pothole_detection/yolov8n_v1/weights/best.pt`\n",
    "2. **TFLite FP16**: `models/best_float16.tflite` ← **Recomendado para Android**\n",
    "3. **TFLite INT8**: `models/best_int8.tflite` ← Más rápido, ligeramente menos preciso\n",
    "\n",
    "### 📱 Siguiente Paso:\n",
    "\n",
    "Copia los archivos `.tflite` a tu app Android:\n",
    "```bash\n",
    "cp models/best_float16.tflite PothholeDetector/app/src/main/assets/\n",
    "```\n",
    "\n",
    "### 🚀 Para usar en la app:\n",
    "\n",
    "El modelo ya está integrado en `PotholeDetector.kt` y debería funcionar automáticamente.\n",
    "\n",
    "---\n",
    "\n",
    "**¡Listo para hackathon! 🎉**"
   ]
  }
 ],
 "metadata": {
  "language_info": {
   "name": "python"
  }
 },
 "nbformat": 4,
 "nbformat_minor": 5
}
